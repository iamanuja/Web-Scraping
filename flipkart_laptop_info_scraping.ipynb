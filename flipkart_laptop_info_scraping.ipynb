{
 "cells": [
  {
   "cell_type": "code",
   "execution_count": 2,
   "id": "aa1bcbd8",
   "metadata": {},
   "outputs": [],
   "source": [
    "from urllib.request import urlopen\n",
    "from bs4 import BeautifulSoup as soup\n",
    "import re\n",
    "import pandas as pd"
   ]
  },
  {
   "cell_type": "code",
   "execution_count": null,
   "id": "06c86f5f",
   "metadata": {},
   "outputs": [],
   "source": [
    "httpobject = urlopen(\"https://www.flipkart.com/laptops/~laptops-under-rs50000/pr?sid=6bo%2Cb5g\")# this gives response\n",
    "webdata = httpobject.read() # read http content and save that in variable webdata in binary format\n",
    "print(webdata)  #"
   ]
  },
  {
   "cell_type": "code",
   "execution_count": 4,
   "id": "a3be76ee",
   "metadata": {},
   "outputs": [],
   "source": [
    "soupdata = soup(webdata)"
   ]
  },
  {
   "cell_type": "code",
   "execution_count": 5,
   "id": "b6c0daea",
   "metadata": {},
   "outputs": [
    {
     "name": "stdout",
     "output_type": "stream",
     "text": [
      "<class 'bs4.element.ResultSet'> 24\n"
     ]
    }
   ],
   "source": [
    "containers = soupdata.findAll('div',{'class':'_2kHMtA'})\n",
    "print(type(containers),len(containers)) #  so above data is result set type and contains 24 div tags total "
   ]
  },
  {
   "cell_type": "code",
   "execution_count": null,
   "id": "aa06b615",
   "metadata": {},
   "outputs": [],
   "source": [
    "f=open('laptop_info2.csv','wb') # \n",
    "f.write('productName,Stars,Ratings,Reviews,CurrentPrice,MRP,Processor,RAM,Storage,ImageURL \\n'.encode())\n",
    "for i in containers:\n",
    "    \n",
    "    product=i.find('div',{'class':'_4rR01T'})\n",
    "    productName = product.text.split('-')[0].strip() \n",
    "   \n",
    "    star=i.find('div',{'class':'_3LWZlK'})\n",
    "    try:\n",
    "        Stars = star.text # storing stars data in Stars var\n",
    "    except:\n",
    "        Stars = 0\n",
    "    \n",
    "    rating = i.find('span',{'class':'_2_R_DZ'})\n",
    "    try:\n",
    "        ratRev = re.findall('\\d+,*\\d*',rating.text)\n",
    "        Ratings=ratRev[0].replace(',','')\n",
    "        Reviews=ratRev[1].replace(',','')\n",
    "    except:\n",
    "        Ratings=0\n",
    "        Reviews=0\n",
    "    \n",
    "    CurrentPrice=i.find('div',{'class':'_30jeq3 _1_WHN1'}).text.replace(',','').replace('₹','')\n",
    "    \n",
    "    mrp=i.find('div',{'class':'_3I9_wc _27UcVY'}).text\n",
    "    try:\n",
    "        MRP = mrp.replace(',','').replace('₹','') # storing \n",
    "    except:\n",
    "        MRP = 0\n",
    "    \n",
    "    info=i.findAll('li',{'class':'rgWa7D'})\n",
    "    a=0\n",
    "    for j in info[a].text:\n",
    "        matches = re.findall(r'\\d+\\s*(?:GB|TB|KB)', info[a].text)\n",
    "        if len(matches) != 0 :\n",
    "            Storage = matches[0]\n",
    "        else :    \n",
    "            a+=1 \n",
    "            \n",
    "    c=0\n",
    "    for j in info[c].text:\n",
    "        matches = re.findall(r'\\d+\\s*(?:GB|TB|KB)', info[c].text)\n",
    "        if len(matches) != 0 :\n",
    "            RAM = info[c].text.replace(matches[0],\"\").strip()\n",
    "        else :    \n",
    "            c+=1   \n",
    "    b=0   \n",
    "    for j in info[b].text:\n",
    "        if \"Processor\" in info[b].text:\n",
    "            Processor= info[b].text\n",
    "        else:\n",
    "            b+=1\n",
    "                \n",
    "    Image=i.img\n",
    "    ImageURL = Image.get('src')\n",
    "    \n",
    "    print(productName,Stars,Ratings,Reviews,CurrentPrice,MRP,Processor,RAM,Storage,ImageURL)\n",
    "    f.write(f\"{productName},{Stars},{Ratings},{Reviews},{CurrentPrice},{MRP},{Processor},{RAM},{Storage},{ImageURL} \\n \".encode()) # \\n for going to next line in csv file\n",
    "f.close()"
   ]
  },
  {
   "cell_type": "code",
   "execution_count": 25,
   "id": "461e46b0",
   "metadata": {},
   "outputs": [
    {
     "data": {
      "text/html": [
       "<div>\n",
       "<style scoped>\n",
       "    .dataframe tbody tr th:only-of-type {\n",
       "        vertical-align: middle;\n",
       "    }\n",
       "\n",
       "    .dataframe tbody tr th {\n",
       "        vertical-align: top;\n",
       "    }\n",
       "\n",
       "    .dataframe thead th {\n",
       "        text-align: right;\n",
       "    }\n",
       "</style>\n",
       "<table border=\"1\" class=\"dataframe\">\n",
       "  <thead>\n",
       "    <tr style=\"text-align: right;\">\n",
       "      <th></th>\n",
       "      <th>productName</th>\n",
       "      <th>Stars</th>\n",
       "      <th>Ratings</th>\n",
       "      <th>Reviews</th>\n",
       "      <th>CurrentPrice</th>\n",
       "      <th>MRP</th>\n",
       "      <th>Processor</th>\n",
       "      <th>RAM</th>\n",
       "      <th>Storage</th>\n",
       "      <th>ImageURL</th>\n",
       "    </tr>\n",
       "  </thead>\n",
       "  <tbody>\n",
       "    <tr>\n",
       "      <th>0</th>\n",
       "      <td>Primebook 4G Android Based MediaTek MT8788</td>\n",
       "      <td>4.0</td>\n",
       "      <td>1022</td>\n",
       "      <td>326</td>\n",
       "      <td>16990</td>\n",
       "      <td>24990</td>\n",
       "      <td>MediaTek MediaTek MT8788 Processor</td>\n",
       "      <td>LPDDR4 RAM</td>\n",
       "      <td>4 GB</td>\n",
       "      <td>https://rukminim2.flixcart.com/image/312/312/x...</td>\n",
       "    </tr>\n",
       "    <tr>\n",
       "      <th>1</th>\n",
       "      <td>Primebook 4G Android Based MediaTek MT8788</td>\n",
       "      <td>4.0</td>\n",
       "      <td>1022</td>\n",
       "      <td>326</td>\n",
       "      <td>16990</td>\n",
       "      <td>24990</td>\n",
       "      <td>MediaTek MediaTek MT8788 Processor</td>\n",
       "      <td>LPDDR4 RAM</td>\n",
       "      <td>4 GB</td>\n",
       "      <td>https://rukminim2.flixcart.com/image/312/312/x...</td>\n",
       "    </tr>\n",
       "  </tbody>\n",
       "</table>\n",
       "</div>"
      ],
      "text/plain": [
       "                                   productName  Stars  Ratings  Reviews  \\\n",
       "0   Primebook 4G Android Based MediaTek MT8788    4.0     1022      326   \n",
       "1   Primebook 4G Android Based MediaTek MT8788    4.0     1022      326   \n",
       "\n",
       "   CurrentPrice    MRP                           Processor         RAM  \\\n",
       "0         16990  24990  MediaTek MediaTek MT8788 Processor  LPDDR4 RAM   \n",
       "1         16990  24990  MediaTek MediaTek MT8788 Processor  LPDDR4 RAM   \n",
       "\n",
       "  Storage                                          ImageURL   \n",
       "0    4 GB  https://rukminim2.flixcart.com/image/312/312/x...  \n",
       "1    4 GB  https://rukminim2.flixcart.com/image/312/312/x...  "
      ]
     },
     "execution_count": 25,
     "metadata": {},
     "output_type": "execute_result"
    }
   ],
   "source": [
    "df=pd.read_csv(r\"C:\\Users\\Anuja\\Documents\\GitHub\\python-notes\\laptop_info2.csv\")\n",
    "df.head(2)"
   ]
  },
  {
   "cell_type": "markdown",
   "id": "1d04c7ac",
   "metadata": {},
   "source": [
    "# scrape all pages and create csv file.whole code =>"
   ]
  },
  {
   "cell_type": "code",
   "execution_count": 16,
   "id": "25bfd5a9",
   "metadata": {},
   "outputs": [],
   "source": [
    "httpobject = urlopen(\"https://www.flipkart.com/laptops/~laptops-under-rs50000/pr?sid=6bo%2Cb5g\")# this gives response\n",
    "webdata = httpobject.read()\n",
    "soupdata = soup(webdata)#convert data into soup data\n",
    "pages_link = soupdata.findAll('a',{\"class\":\"ge-49M\"})\n",
    "domain=\"https://www.flipkart.com/laptops/~laptops-under-rs50000/pr?sid=6bo%2Cb5g&page=\"\n",
    "\n",
    "for z in range(2,21):# as we already done coding for 1st page\n",
    "    link = domain+str(z)\n",
    "    page_data = urlopen(link)\n",
    "    webdata1 =page_data.read()\n",
    "    webdata += webdata1 # all data is getting add in webdata1  "
   ]
  },
  {
   "cell_type": "code",
   "execution_count": 17,
   "id": "22ca8a1a",
   "metadata": {},
   "outputs": [
    {
     "data": {
      "text/plain": [
       "bs4.BeautifulSoup"
      ]
     },
     "execution_count": 17,
     "metadata": {},
     "output_type": "execute_result"
    }
   ],
   "source": [
    "soupdata= soup(webdata , 'html.parser')\n",
    "type(soupdata)"
   ]
  },
  {
   "cell_type": "code",
   "execution_count": 18,
   "id": "72c80366",
   "metadata": {},
   "outputs": [
    {
     "name": "stdout",
     "output_type": "stream",
     "text": [
      "480\n"
     ]
    }
   ],
   "source": [
    "containers = soupdata.findAll('div',{'class':'_2kHMtA'})\n",
    "print(len(containers))"
   ]
  },
  {
   "cell_type": "code",
   "execution_count": null,
   "id": "06875f38",
   "metadata": {},
   "outputs": [],
   "source": [
    "f=open('laptop_info_all.csv','wb') # \n",
    "f.write('productName,Stars,Ratings,Reviews,CurrentPrice,MRP,Processor,RAM,Storage,ImageURL \\n'.encode())\n",
    "for i in containers:\n",
    "    \n",
    "    product=i.find('div',{'class':'_4rR01T'})\n",
    "    productName = product.text.split('-')[0].strip() \n",
    "   \n",
    "    star=i.find('div',{'class':'_3LWZlK'})\n",
    "    try:\n",
    "        Stars = star.text # storing stars data in Stars var\n",
    "    except:\n",
    "        Stars = 0\n",
    "    \n",
    "    rating = i.find('span',{'class':'_2_R_DZ'})\n",
    "    try:\n",
    "        ratRev = re.findall('\\d+,*\\d*',rating.text)\n",
    "        Ratings=ratRev[0].replace(',','')\n",
    "        Reviews=ratRev[1].replace(',','')\n",
    "    except:\n",
    "        Ratings=0\n",
    "        Reviews=0\n",
    "    \n",
    "    CurrentPrice=i.find('div',{'class':'_30jeq3 _1_WHN1'}).text.replace(',','').replace('₹','')\n",
    "    \n",
    "    mrp=i.find('div',{'class':'_3I9_wc _27UcVY'})\n",
    "    try:\n",
    "        MRP = mrp.text.replace(',','').replace('₹','') # storing \n",
    "    except:\n",
    "        MRP = 0\n",
    "    \n",
    "    info=i.findAll('li',{'class':'rgWa7D'})\n",
    "    a=0\n",
    "    for j in info[a].text:\n",
    "        matches = re.findall(r'\\d+\\s*(?:GB|TB|KB)', info[a].text)\n",
    "        if len(matches) != 0 :\n",
    "            Storage = matches[0]\n",
    "            RAM = info[a].text.replace(matches[0],\"\").strip()\n",
    "        else :    \n",
    "            a+=1 \n",
    "  \n",
    "    b=0   \n",
    "    for j in info[b].text:\n",
    "        if \"Processor\" in info[b].text:\n",
    "            Processor= info[b].text\n",
    "        else:\n",
    "            b+=1\n",
    "                \n",
    "    Image=i.img\n",
    "    ImageURL = Image.get('src')\n",
    "    \n",
    "    print(productName,Stars,Ratings,Reviews,CurrentPrice,MRP,Processor,RAM,Storage,ImageURL)\n",
    "    f.write(f\"{productName},{Stars},{Ratings},{Reviews},{CurrentPrice},{MRP},{Processor},{RAM},{Storage},{ImageURL} \\n \".encode()) # \\n for going to next line in csv file\n",
    "f.close()"
   ]
  },
  {
   "cell_type": "code",
   "execution_count": 20,
   "id": "2895b1db",
   "metadata": {
    "scrolled": true
   },
   "outputs": [
    {
     "name": "stderr",
     "output_type": "stream",
     "text": [
      "Skipping line 264: expected 10 fields, saw 12\n",
      "\n"
     ]
    }
   ],
   "source": [
    "df2=pd.read_csv(r\"laptop_info_all.csv\" , on_bad_lines = 'warn')"
   ]
  },
  {
   "cell_type": "code",
   "execution_count": 21,
   "id": "6e9b59fd",
   "metadata": {},
   "outputs": [
    {
     "data": {
      "text/plain": [
       "(479, 10)"
      ]
     },
     "execution_count": 21,
     "metadata": {},
     "output_type": "execute_result"
    }
   ],
   "source": [
    "df2.shape #  :) done extracted 479 out of 480"
   ]
  },
  {
   "cell_type": "code",
   "execution_count": 23,
   "id": "a389862d",
   "metadata": {},
   "outputs": [
    {
     "data": {
      "text/html": [
       "<div>\n",
       "<style scoped>\n",
       "    .dataframe tbody tr th:only-of-type {\n",
       "        vertical-align: middle;\n",
       "    }\n",
       "\n",
       "    .dataframe tbody tr th {\n",
       "        vertical-align: top;\n",
       "    }\n",
       "\n",
       "    .dataframe thead th {\n",
       "        text-align: right;\n",
       "    }\n",
       "</style>\n",
       "<table border=\"1\" class=\"dataframe\">\n",
       "  <thead>\n",
       "    <tr style=\"text-align: right;\">\n",
       "      <th></th>\n",
       "      <th>productName</th>\n",
       "      <th>Stars</th>\n",
       "      <th>Ratings</th>\n",
       "      <th>Reviews</th>\n",
       "      <th>CurrentPrice</th>\n",
       "      <th>MRP</th>\n",
       "      <th>Processor</th>\n",
       "      <th>RAM</th>\n",
       "      <th>Storage</th>\n",
       "      <th>ImageURL</th>\n",
       "    </tr>\n",
       "  </thead>\n",
       "  <tbody>\n",
       "    <tr>\n",
       "      <th>0</th>\n",
       "      <td>ASUS Chromebook Celeron Dual Core N4020</td>\n",
       "      <td>3.6</td>\n",
       "      <td>530</td>\n",
       "      <td>57</td>\n",
       "      <td>13990</td>\n",
       "      <td>24990</td>\n",
       "      <td>Intel Celeron Dual Core Processor</td>\n",
       "      <td>LPDDR4 RAM</td>\n",
       "      <td>4 GB</td>\n",
       "      <td>https://rukminim2.flixcart.com/image/312/312/k...</td>\n",
       "    </tr>\n",
       "    <tr>\n",
       "      <th>1</th>\n",
       "      <td>Acer Aspire 3 Core i3 12th Gen</td>\n",
       "      <td>4.2</td>\n",
       "      <td>341</td>\n",
       "      <td>32</td>\n",
       "      <td>36990</td>\n",
       "      <td>48999</td>\n",
       "      <td>Intel Core i3 Processor (12th Gen)</td>\n",
       "      <td>DDR4 RAM</td>\n",
       "      <td>8 GB</td>\n",
       "      <td>https://rukminim2.flixcart.com/image/312/312/x...</td>\n",
       "    </tr>\n",
       "    <tr>\n",
       "      <th>2</th>\n",
       "      <td>HP Laptop Core i3 11th Gen 1115G4</td>\n",
       "      <td>4.2</td>\n",
       "      <td>440</td>\n",
       "      <td>36</td>\n",
       "      <td>38990</td>\n",
       "      <td>49025</td>\n",
       "      <td>Intel Core i3 Processor (11th Gen)</td>\n",
       "      <td>DDR4 RAM</td>\n",
       "      <td>8 GB</td>\n",
       "      <td>https://rukminim2.flixcart.com/image/312/312/x...</td>\n",
       "    </tr>\n",
       "  </tbody>\n",
       "</table>\n",
       "</div>"
      ],
      "text/plain": [
       "                               productName  Stars  Ratings  Reviews  \\\n",
       "0  ASUS Chromebook Celeron Dual Core N4020    3.6      530       57   \n",
       "1           Acer Aspire 3 Core i3 12th Gen    4.2      341       32   \n",
       "2        HP Laptop Core i3 11th Gen 1115G4    4.2      440       36   \n",
       "\n",
       "   CurrentPrice    MRP                           Processor         RAM  \\\n",
       "0         13990  24990   Intel Celeron Dual Core Processor  LPDDR4 RAM   \n",
       "1         36990  48999  Intel Core i3 Processor (12th Gen)    DDR4 RAM   \n",
       "2         38990  49025  Intel Core i3 Processor (11th Gen)    DDR4 RAM   \n",
       "\n",
       "  Storage                                          ImageURL   \n",
       "0    4 GB  https://rukminim2.flixcart.com/image/312/312/k...  \n",
       "1    8 GB  https://rukminim2.flixcart.com/image/312/312/x...  \n",
       "2    8 GB  https://rukminim2.flixcart.com/image/312/312/x...  "
      ]
     },
     "execution_count": 23,
     "metadata": {},
     "output_type": "execute_result"
    }
   ],
   "source": [
    "df2.head(3)"
   ]
  },
  {
   "cell_type": "code",
   "execution_count": 24,
   "id": "738b6467",
   "metadata": {},
   "outputs": [
    {
     "data": {
      "text/html": [
       "<div>\n",
       "<style scoped>\n",
       "    .dataframe tbody tr th:only-of-type {\n",
       "        vertical-align: middle;\n",
       "    }\n",
       "\n",
       "    .dataframe tbody tr th {\n",
       "        vertical-align: top;\n",
       "    }\n",
       "\n",
       "    .dataframe thead th {\n",
       "        text-align: right;\n",
       "    }\n",
       "</style>\n",
       "<table border=\"1\" class=\"dataframe\">\n",
       "  <thead>\n",
       "    <tr style=\"text-align: right;\">\n",
       "      <th></th>\n",
       "      <th>productName</th>\n",
       "      <th>Stars</th>\n",
       "      <th>Ratings</th>\n",
       "      <th>Reviews</th>\n",
       "      <th>CurrentPrice</th>\n",
       "      <th>MRP</th>\n",
       "      <th>Processor</th>\n",
       "      <th>RAM</th>\n",
       "      <th>Storage</th>\n",
       "      <th>ImageURL</th>\n",
       "    </tr>\n",
       "  </thead>\n",
       "  <tbody>\n",
       "    <tr>\n",
       "      <th>476</th>\n",
       "      <td>Lenovo ThinkBook 15 Core i5 12th Gen 1235U</td>\n",
       "      <td>3.8</td>\n",
       "      <td>45</td>\n",
       "      <td>9</td>\n",
       "      <td>49990</td>\n",
       "      <td>64029</td>\n",
       "      <td>Intel Core i5 Processor (12th Gen)</td>\n",
       "      <td>DDR4 RAM</td>\n",
       "      <td>8 GB</td>\n",
       "      <td>https://rukminim2.flixcart.com/image/312/312/x...</td>\n",
       "    </tr>\n",
       "    <tr>\n",
       "      <th>477</th>\n",
       "      <td>Lenovo IdeaPad 3 CB Celeron Dual Core N4020</td>\n",
       "      <td>3.4</td>\n",
       "      <td>20</td>\n",
       "      <td>2</td>\n",
       "      <td>20990</td>\n",
       "      <td>34890</td>\n",
       "      <td>Intel Celeron Dual Core Processor</td>\n",
       "      <td>DDR4 RAM</td>\n",
       "      <td>4 GB</td>\n",
       "      <td>https://rukminim2.flixcart.com/image/312/312/k...</td>\n",
       "    </tr>\n",
       "    <tr>\n",
       "      <th>478</th>\n",
       "      <td>Acer Extensa Core i5 11th Gen 1135G7</td>\n",
       "      <td>3.9</td>\n",
       "      <td>359</td>\n",
       "      <td>30</td>\n",
       "      <td>49431</td>\n",
       "      <td>61990</td>\n",
       "      <td>Intel Core i5 Processor (11th Gen)</td>\n",
       "      <td>DDR4 RAM</td>\n",
       "      <td>8 GB</td>\n",
       "      <td>https://rukminim2.flixcart.com/image/312/312/x...</td>\n",
       "    </tr>\n",
       "  </tbody>\n",
       "</table>\n",
       "</div>"
      ],
      "text/plain": [
       "                                      productName  Stars  Ratings  Reviews  \\\n",
       "476    Lenovo ThinkBook 15 Core i5 12th Gen 1235U    3.8       45        9   \n",
       "477   Lenovo IdeaPad 3 CB Celeron Dual Core N4020    3.4       20        2   \n",
       "478          Acer Extensa Core i5 11th Gen 1135G7    3.9      359       30   \n",
       "\n",
       "     CurrentPrice    MRP                           Processor       RAM  \\\n",
       "476         49990  64029  Intel Core i5 Processor (12th Gen)  DDR4 RAM   \n",
       "477         20990  34890   Intel Celeron Dual Core Processor  DDR4 RAM   \n",
       "478         49431  61990  Intel Core i5 Processor (11th Gen)  DDR4 RAM   \n",
       "\n",
       "    Storage                                          ImageURL   \n",
       "476    8 GB  https://rukminim2.flixcart.com/image/312/312/x...  \n",
       "477    4 GB  https://rukminim2.flixcart.com/image/312/312/k...  \n",
       "478    8 GB  https://rukminim2.flixcart.com/image/312/312/x...  "
      ]
     },
     "execution_count": 24,
     "metadata": {},
     "output_type": "execute_result"
    }
   ],
   "source": [
    "df2.tail(3)"
   ]
  },
  {
   "cell_type": "code",
   "execution_count": null,
   "id": "9c28a517",
   "metadata": {},
   "outputs": [],
   "source": []
  }
 ],
 "metadata": {
  "kernelspec": {
   "display_name": "Python 3 (ipykernel)",
   "language": "python",
   "name": "python3"
  },
  "language_info": {
   "codemirror_mode": {
    "name": "ipython",
    "version": 3
   },
   "file_extension": ".py",
   "mimetype": "text/x-python",
   "name": "python",
   "nbconvert_exporter": "python",
   "pygments_lexer": "ipython3",
   "version": "3.10.9"
  }
 },
 "nbformat": 4,
 "nbformat_minor": 5
}
