{
 "cells": [
  {
   "cell_type": "code",
   "execution_count": 2,
   "id": "d9786f8c",
   "metadata": {},
   "outputs": [],
   "source": [
    "from bs4 import BeautifulSoup \n",
    "import re\n",
    "import pandas as pd\n",
    "import numpy as np\n",
    "import requests"
   ]
  },
  {
   "cell_type": "code",
   "execution_count": null,
   "id": "903bde80",
   "metadata": {
    "scrolled": true
   },
   "outputs": [],
   "source": [
    "f=open('articles.csv','wb') # \n",
    "f.write('name,link,author,date \\n'.encode())\n",
    "domain=\"https://www.analyticsvidhya.com/blog/category/machine-learning/page/\"\n",
    "for z in range(1,200):# as we already done coding for 1st page\n",
    "    whole_link = domain+str(z)+\"/?utm_source=blog_navbar&utm_medium=machine_learning_button\"\n",
    "    response1 = requests.get(whole_link) # Send a GET request to the URL\n",
    "    soupdata = BeautifulSoup(response1.content, 'html.parser') # Create a BeautifulSoup object to parse the HTML content\n",
    "    info1=soupdata.findAll('div',{'class':'list-card-content'})\n",
    "    for i in info1:\n",
    "        name1=i.findAll('h4')\n",
    "        name=name1[0].text\n",
    "        link1=i.findAll('a')\n",
    "        link=link1[0].get('href')\n",
    "        Author_date=i.findAll('h6')\n",
    "        author=Author_date[0].text.split(',')[0].strip()\n",
    "        date1=Author_date[0].text.strip().split(',',2)[1:]\n",
    "        date=\"\".join(date1)\n",
    "        print(name,link,author,date)\n",
    "        f.write(f\"{name},{link},{author},{date} \\n \".encode()) # \\n for going to next line in csv file\n",
    "f.close()\n",
    "            "
   ]
  },
  {
   "cell_type": "code",
   "execution_count": null,
   "id": "11081bba",
   "metadata": {},
   "outputs": [],
   "source": [
    "df1=pd.read_csv(r'articles.csv', on_bad_lines = 'warn')"
   ]
  },
  {
   "cell_type": "code",
   "execution_count": 5,
   "id": "8b2bbafc",
   "metadata": {},
   "outputs": [
    {
     "data": {
      "text/plain": [
       "(1641, 4)"
      ]
     },
     "execution_count": 5,
     "metadata": {},
     "output_type": "execute_result"
    }
   ],
   "source": [
    "df1.shape"
   ]
  },
  {
   "cell_type": "code",
   "execution_count": 6,
   "id": "ca79c059",
   "metadata": {},
   "outputs": [
    {
     "data": {
      "text/html": [
       "<div>\n",
       "<style scoped>\n",
       "    .dataframe tbody tr th:only-of-type {\n",
       "        vertical-align: middle;\n",
       "    }\n",
       "\n",
       "    .dataframe tbody tr th {\n",
       "        vertical-align: top;\n",
       "    }\n",
       "\n",
       "    .dataframe thead th {\n",
       "        text-align: right;\n",
       "    }\n",
       "</style>\n",
       "<table border=\"1\" class=\"dataframe\">\n",
       "  <thead>\n",
       "    <tr style=\"text-align: right;\">\n",
       "      <th></th>\n",
       "      <th>name</th>\n",
       "      <th>link</th>\n",
       "      <th>author</th>\n",
       "      <th>date</th>\n",
       "    </tr>\n",
       "  </thead>\n",
       "  <tbody>\n",
       "    <tr>\n",
       "      <th>0</th>\n",
       "      <td>Training a Variational Autoencoder For Anomaly...</td>\n",
       "      <td>https://www.analyticsvidhya.com/blog/2023/09/v...</td>\n",
       "      <td>Adnan Afzal</td>\n",
       "      <td>September 15 2023</td>\n",
       "    </tr>\n",
       "    <tr>\n",
       "      <th>1</th>\n",
       "      <td>Artificial Intelligence and the Aesthetics of...</td>\n",
       "      <td>https://www.analyticsvidhya.com/blog/2023/09/a...</td>\n",
       "      <td>Ananya Manjunath</td>\n",
       "      <td>September 14 2023</td>\n",
       "    </tr>\n",
       "    <tr>\n",
       "      <th>2</th>\n",
       "      <td>Text to Sound – Train Your Large Language Models</td>\n",
       "      <td>https://www.analyticsvidhya.com/blog/2023/09/t...</td>\n",
       "      <td>guest_blog</td>\n",
       "      <td>September 12 2023</td>\n",
       "    </tr>\n",
       "    <tr>\n",
       "      <th>3</th>\n",
       "      <td>RLHF For High-Performance Decision-Making: St...</td>\n",
       "      <td>https://www.analyticsvidhya.com/blog/2023/09/r...</td>\n",
       "      <td>Vikas Virupaksh</td>\n",
       "      <td>September 11 2023</td>\n",
       "    </tr>\n",
       "    <tr>\n",
       "      <th>4</th>\n",
       "      <td>Leveraging Generative Models to Boost Semi-Su...</td>\n",
       "      <td>https://www.analyticsvidhya.com/blog/2023/09/l...</td>\n",
       "      <td>Sujitha Guvvala</td>\n",
       "      <td>September 7 2023</td>\n",
       "    </tr>\n",
       "  </tbody>\n",
       "</table>\n",
       "</div>"
      ],
      "text/plain": [
       "                                                name  \\\n",
       "0  Training a Variational Autoencoder For Anomaly...   \n",
       "1   Artificial Intelligence and the Aesthetics of...   \n",
       "2   Text to Sound – Train Your Large Language Models   \n",
       "3   RLHF For High-Performance Decision-Making: St...   \n",
       "4   Leveraging Generative Models to Boost Semi-Su...   \n",
       "\n",
       "                                                link            author  \\\n",
       "0  https://www.analyticsvidhya.com/blog/2023/09/v...       Adnan Afzal   \n",
       "1  https://www.analyticsvidhya.com/blog/2023/09/a...  Ananya Manjunath   \n",
       "2  https://www.analyticsvidhya.com/blog/2023/09/t...        guest_blog   \n",
       "3  https://www.analyticsvidhya.com/blog/2023/09/r...   Vikas Virupaksh   \n",
       "4  https://www.analyticsvidhya.com/blog/2023/09/l...   Sujitha Guvvala   \n",
       "\n",
       "                 date   \n",
       "0   September 15 2023   \n",
       "1   September 14 2023   \n",
       "2   September 12 2023   \n",
       "3   September 11 2023   \n",
       "4    September 7 2023   "
      ]
     },
     "execution_count": 6,
     "metadata": {},
     "output_type": "execute_result"
    }
   ],
   "source": [
    "df1.head()"
   ]
  },
  {
   "cell_type": "code",
   "execution_count": 7,
   "id": "f0a545c6",
   "metadata": {},
   "outputs": [
    {
     "data": {
      "text/html": [
       "<div>\n",
       "<style scoped>\n",
       "    .dataframe tbody tr th:only-of-type {\n",
       "        vertical-align: middle;\n",
       "    }\n",
       "\n",
       "    .dataframe tbody tr th {\n",
       "        vertical-align: top;\n",
       "    }\n",
       "\n",
       "    .dataframe thead th {\n",
       "        text-align: right;\n",
       "    }\n",
       "</style>\n",
       "<table border=\"1\" class=\"dataframe\">\n",
       "  <thead>\n",
       "    <tr style=\"text-align: right;\">\n",
       "      <th></th>\n",
       "      <th>name</th>\n",
       "      <th>link</th>\n",
       "      <th>author</th>\n",
       "      <th>date</th>\n",
       "    </tr>\n",
       "  </thead>\n",
       "  <tbody>\n",
       "    <tr>\n",
       "      <th>1636</th>\n",
       "      <td>Diagnosing residual plots in linear regressio...</td>\n",
       "      <td>https://www.analyticsvidhya.com/blog/2013/12/r...</td>\n",
       "      <td>Tavish Srivastava</td>\n",
       "      <td>December 1 2013</td>\n",
       "    </tr>\n",
       "    <tr>\n",
       "      <th>1637</th>\n",
       "      <td>Getting your clustering right (Part II)</td>\n",
       "      <td>https://www.analyticsvidhya.com/blog/2013/11/g...</td>\n",
       "      <td>Tavish Srivastava</td>\n",
       "      <td>November 17 2013</td>\n",
       "    </tr>\n",
       "    <tr>\n",
       "      <th>1638</th>\n",
       "      <td>Getting your clustering right (Part I)</td>\n",
       "      <td>https://www.analyticsvidhya.com/blog/2013/11/g...</td>\n",
       "      <td>Tavish Srivastava</td>\n",
       "      <td>November 12 2013</td>\n",
       "    </tr>\n",
       "    <tr>\n",
       "      <th>1639</th>\n",
       "      <td>How to find inefficient branches when conside...</td>\n",
       "      <td>https://www.analyticsvidhya.com/blog/2013/11/i...</td>\n",
       "      <td>Tavish Srivastava</td>\n",
       "      <td>November 6 2013</td>\n",
       "    </tr>\n",
       "    <tr>\n",
       "      <th>1640</th>\n",
       "      <td>Trick to enhance power of Regression model</td>\n",
       "      <td>https://www.analyticsvidhya.com/blog/2013/10/t...</td>\n",
       "      <td>Tavish Srivastava</td>\n",
       "      <td>October 21 2013</td>\n",
       "    </tr>\n",
       "  </tbody>\n",
       "</table>\n",
       "</div>"
      ],
      "text/plain": [
       "                                                   name  \\\n",
       "1636   Diagnosing residual plots in linear regressio...   \n",
       "1637            Getting your clustering right (Part II)   \n",
       "1638             Getting your clustering right (Part I)   \n",
       "1639   How to find inefficient branches when conside...   \n",
       "1640         Trick to enhance power of Regression model   \n",
       "\n",
       "                                                   link             author  \\\n",
       "1636  https://www.analyticsvidhya.com/blog/2013/12/r...  Tavish Srivastava   \n",
       "1637  https://www.analyticsvidhya.com/blog/2013/11/g...  Tavish Srivastava   \n",
       "1638  https://www.analyticsvidhya.com/blog/2013/11/g...  Tavish Srivastava   \n",
       "1639  https://www.analyticsvidhya.com/blog/2013/11/i...  Tavish Srivastava   \n",
       "1640  https://www.analyticsvidhya.com/blog/2013/10/t...  Tavish Srivastava   \n",
       "\n",
       "                   date   \n",
       "1636    December 1 2013   \n",
       "1637   November 17 2013   \n",
       "1638   November 12 2013   \n",
       "1639    November 6 2013   \n",
       "1640    October 21 2013   "
      ]
     },
     "execution_count": 7,
     "metadata": {},
     "output_type": "execute_result"
    }
   ],
   "source": [
    "df1.tail()"
   ]
  },
  {
   "cell_type": "code",
   "execution_count": null,
   "id": "5ac8bf4d",
   "metadata": {},
   "outputs": [],
   "source": []
  }
 ],
 "metadata": {
  "kernelspec": {
   "display_name": "Python 3 (ipykernel)",
   "language": "python",
   "name": "python3"
  },
  "language_info": {
   "codemirror_mode": {
    "name": "ipython",
    "version": 3
   },
   "file_extension": ".py",
   "mimetype": "text/x-python",
   "name": "python",
   "nbconvert_exporter": "python",
   "pygments_lexer": "ipython3",
   "version": "3.10.9"
  }
 },
 "nbformat": 4,
 "nbformat_minor": 5
}
